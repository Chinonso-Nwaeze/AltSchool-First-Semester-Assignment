{
  "nbformat": 4,
  "nbformat_minor": 0,
  "metadata": {
    "colab": {
      "provenance": [],
      "authorship_tag": "ABX9TyNho0j4Q9RGkjvDl4PSmGRp",
      "include_colab_link": true
    },
    "kernelspec": {
      "name": "python3",
      "display_name": "Python 3"
    },
    "language_info": {
      "name": "python"
    }
  },
  "cells": [
    {
      "cell_type": "markdown",
      "metadata": {
        "id": "view-in-github",
        "colab_type": "text"
      },
      "source": [
        "<a href=\"https://colab.research.google.com/github/Chinonso-Nwaeze/AltSchool-First-Semester-Assignment/blob/main/Chinonso_Eustance_Nwaeze_(Assignment).ipynb\" target=\"_parent\"><img src=\"https://colab.research.google.com/assets/colab-badge.svg\" alt=\"Open In Colab\"/></a>"
      ]
    },
    {
      "cell_type": "code",
      "execution_count": 3,
      "metadata": {
        "id": "13XAHWhHkgRK"
      },
      "outputs": [],
      "source": [
        "#Explain events (probability) to a non-technical person\n",
        "#illustrate it using Python code\n",
        "#Example: calculate the probabilty of rolling a 6 with a die"
      ]
    },
    {
      "cell_type": "markdown",
      "source": [
        "Explaining events(probability) to a non-technical person using the probabilty of rolling die.\n",
        "Imagine a six-sided die. When you roll it, there are six posible outcomes: 1,2,3,4,5, or 6. each of these outcomes is equally likely.\n",
        "now, let's say we want to know the probability of roling a 6.\n",
        "\n",
        "\n",
        "*   Total possible outcomes: (1,2,3,4,5,6)\n",
        "*   Favorable outcomes (rolling a 6): 1\n",
        "Probability of roling a 6 = Favorable outcomes/Total outcomes\n",
        "So, the probability of rolling a 6 is 1/6.\n",
        "\n"
      ],
      "metadata": {
        "id": "NnKq8aV8lud9"
      }
    },
    {
      "cell_type": "markdown",
      "source": [
        "# Here's a Python illustrate:\n",
        "import random\n",
        "import matplotlib.pyplot as plt"
      ],
      "metadata": {
        "id": "hM3NicWSpJng"
      }
    },
    {
      "cell_type": "code",
      "source": [
        "import random\n",
        "import matplotlib.pyplot as plt"
      ],
      "metadata": {
        "id": "cCSUzksP3nJ7"
      },
      "execution_count": 10,
      "outputs": []
    },
    {
      "cell_type": "code",
      "source": [
        "def roll_dice(num_rolls):\n",
        "  rolls = []\n",
        "  for _ in range(num_rolls):\n",
        "    roll = random.randint(1, 6)\n",
        "    rolls.append(roll)\n",
        "  return rolls\n"
      ],
      "metadata": {
        "id": "4CI1TqIv34U6"
      },
      "execution_count": 11,
      "outputs": []
    },
    {
      "cell_type": "code",
      "source": [
        "#simulate 1000 rolls\n",
        "rolls = roll_dice(1000)"
      ],
      "metadata": {
        "id": "y7H840Sb4nYx"
      },
      "execution_count": 12,
      "outputs": []
    },
    {
      "cell_type": "code",
      "source": [
        "#Count the frequency of each number\n",
        "counts = [rolls.count(i) for i in range(1, 7)]"
      ],
      "metadata": {
        "id": "kEu_dgNP4-Bz"
      },
      "execution_count": 13,
      "outputs": []
    },
    {
      "cell_type": "code",
      "source": [
        "#Create a bar chart\n",
        "plt.bar(range(1, 7), counts)\n",
        "plt.xlabel('Dice Roll')\n",
        "plt.ylabel('Frequency')\n",
        "plt.title('Distribution of 1000 Dice Rolls')\n",
        "plt.show()"
      ],
      "metadata": {
        "colab": {
          "base_uri": "https://localhost:8080/",
          "height": 472
        },
        "id": "PJN4KoTm5J20",
        "outputId": "6734d541-2281-4f31-dd9b-f20c41c0a9a7"
      },
      "execution_count": 14,
      "outputs": [
        {
          "output_type": "display_data",
          "data": {
            "text/plain": [
              "<Figure size 640x480 with 1 Axes>"
            ],
            "image/png": "[encoded data removed]"
          },
          "metadata": {}
        }
      ]
    }
  ]
}